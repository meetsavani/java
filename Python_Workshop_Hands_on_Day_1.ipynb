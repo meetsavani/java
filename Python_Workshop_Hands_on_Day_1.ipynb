{
  "nbformat": 4,
  "nbformat_minor": 0,
  "metadata": {
    "colab": {
      "name": "Copy of Copy of Copy of Python Workshop Hands-on Day 1.ipynb",
      "version": "0.3.2",
      "provenance": [],
      "collapsed_sections": [],
      "toc_visible": true,
      "include_colab_link": true
    },
    "kernelspec": {
      "name": "python3",
      "display_name": "Python 3"
    }
  },
  "cells": [
    {
      "cell_type": "markdown",
      "metadata": {
        "id": "view-in-github",
        "colab_type": "text"
      },
      "source": [
        "<a href=\"https://colab.research.google.com/github/meetsavani/java/blob/master/Python_Workshop_Hands_on_Day_1.ipynb\" target=\"_parent\"><img src=\"https://colab.research.google.com/assets/colab-badge.svg\" alt=\"Open In Colab\"/></a>"
      ]
    },
    {
      "metadata": {
        "id": "veIEOls4747h",
        "colab_type": "text"
      },
      "cell_type": "markdown",
      "source": [
        "## Python Fundamentals"
      ]
    },
    {
      "metadata": {
        "id": "KR9Jy0V6777m",
        "colab_type": "text"
      },
      "cell_type": "markdown",
      "source": [
        "### Variables"
      ]
    },
    {
      "metadata": {
        "id": "YDyV7lne8IYJ",
        "colab_type": "text"
      },
      "cell_type": "markdown",
      "source": [
        "#### Creating Variables"
      ]
    },
    {
      "metadata": {
        "id": "rb82TnFTAaGC",
        "colab_type": "code",
        "outputId": "b2357345-0bee-4c38-8c73-909dfd14eacd",
        "colab": {
          "base_uri": "https://localhost:8080/",
          "height": 104
        }
      },
      "cell_type": "code",
      "source": [
        "print(var1)\n",
        "print(_var2) \n",
        "print(VAR3)\n",
        "print(__var4_)\n",
        "print(var5)"
      ],
      "execution_count": 2,
      "outputs": [
        {
          "output_type": "stream",
          "text": [
            "23\n",
            "0.001\n",
            "I am a String!\n",
            "True\n",
            "(3+4j)\n"
          ],
          "name": "stdout"
        }
      ]
    },
    {
      "metadata": {
        "id": "jt9JHGDE79Ev",
        "colab_type": "code",
        "colab": {}
      },
      "cell_type": "code",
      "source": [
        "var1 = 23                            # integer\n",
        "_var2 = 0.001                        # float\n",
        "VAR3 = \"I am a String!\"              # string\n",
        "__var4_ = True                       # boolean\n",
        "var5 = 3 + 4j "
      ],
      "execution_count": 0,
      "outputs": []
    },
    {
      "metadata": {
        "id": "iBw8CIiz-hx0",
        "colab_type": "text"
      },
      "cell_type": "markdown",
      "source": [
        "##### Integer Variables"
      ]
    },
    {
      "metadata": {
        "id": "VkQr5FUA-jmy",
        "colab_type": "code",
        "colab": {}
      },
      "cell_type": "code",
      "source": [
        "ivar1 = 56\n",
        "ivar2 = -244\n",
        "ivar3 = 46478526537689\n",
        "ivar4 = 0x464"
      ],
      "execution_count": 0,
      "outputs": []
    },
    {
      "metadata": {
        "id": "_v7u4bbJ-2Uj",
        "colab_type": "code",
        "outputId": "b675dd70-0818-4178-9740-57132e621c56",
        "colab": {
          "base_uri": "https://localhost:8080/",
          "height": 34
        }
      },
      "cell_type": "code",
      "source": [
        "print(ivar1, ivar2, ivar3, ivar4)"
      ],
      "execution_count": 0,
      "outputs": [
        {
          "output_type": "stream",
          "text": [
            "56 -244 46478526537689 1124\n"
          ],
          "name": "stdout"
        }
      ]
    },
    {
      "metadata": {
        "id": "8O6u28D3_GB6",
        "colab_type": "text"
      },
      "cell_type": "markdown",
      "source": [
        "##### Float Variables"
      ]
    },
    {
      "metadata": {
        "id": "nIxKhfWC_Jnv",
        "colab_type": "code",
        "colab": {}
      },
      "cell_type": "code",
      "source": [
        "fvar1 = 56.56\n",
        "fvar2 = -244.62887\n",
        "fvar3 = 5e3"
      ],
      "execution_count": 0,
      "outputs": []
    },
    {
      "metadata": {
        "id": "B7CFD4Tw_QxT",
        "colab_type": "code",
        "outputId": "ff57d5af-96cb-4281-d90f-9d365a3483a2",
        "colab": {
          "base_uri": "https://localhost:8080/",
          "height": 34
        }
      },
      "cell_type": "code",
      "source": [
        "print(fvar1, fvar2, fvar3)"
      ],
      "execution_count": 4,
      "outputs": [
        {
          "output_type": "stream",
          "text": [
            "56.56 -244.62887 5000.0\n"
          ],
          "name": "stdout"
        }
      ]
    },
    {
      "metadata": {
        "id": "gO8xDdHH_l1R",
        "colab_type": "text"
      },
      "cell_type": "markdown",
      "source": [
        "##### String Variables"
      ]
    },
    {
      "metadata": {
        "id": "FR5g-Zkj_ocE",
        "colab_type": "code",
        "colab": {}
      },
      "cell_type": "code",
      "source": [
        "svar1 = \"Double Quotes\"\n",
        "svar2 = 'Single Quotes'"
      ],
      "execution_count": 0,
      "outputs": []
    },
    {
      "metadata": {
        "id": "c25sn_Qc_5AM",
        "colab_type": "code",
        "outputId": "527162e1-79c2-4ff2-9b4f-b359c4d0c87b",
        "colab": {
          "base_uri": "https://localhost:8080/",
          "height": 34
        }
      },
      "cell_type": "code",
      "source": [
        "print(svar1, svar2)"
      ],
      "execution_count": 0,
      "outputs": [
        {
          "output_type": "stream",
          "text": [
            "Double Quotes Single Quotes\n"
          ],
          "name": "stdout"
        }
      ]
    },
    {
      "metadata": {
        "id": "JIMEt2rF9z-S",
        "colab_type": "text"
      },
      "cell_type": "markdown",
      "source": [
        "##### Complex Variables"
      ]
    },
    {
      "metadata": {
        "id": "Knc0Puox8OqM",
        "colab_type": "code",
        "outputId": "21f64c25-da4e-4d64-9b60-985a92181ea4",
        "colab": {
          "base_uri": "https://localhost:8080/",
          "height": 67
        }
      },
      "cell_type": "code",
      "source": [
        "complex_var = 3 + 4j                 # complex\n",
        "print(complex_var.real)              # real part\n",
        "print(complex_var.imag)              # imaginory part\n",
        "print(complex_var.conjugate())       # complex conjugate"
      ],
      "execution_count": 0,
      "outputs": [
        {
          "output_type": "stream",
          "text": [
            "3.0\n",
            "4.0\n",
            "(3-4j)\n"
          ],
          "name": "stdout"
        }
      ]
    },
    {
      "metadata": {
        "id": "V8Axkuif9-Ch",
        "colab_type": "text"
      },
      "cell_type": "markdown",
      "source": [
        "##### Variable can change its type!"
      ]
    },
    {
      "metadata": {
        "id": "pWCjxiZ29usN",
        "colab_type": "code",
        "outputId": "476e46cf-d619-4893-9812-0ccfea6215c4",
        "colab": {
          "base_uri": "https://localhost:8080/",
          "height": 50
        }
      },
      "cell_type": "code",
      "source": [
        "var5 = \"I am String!!!\"              # string variable\n",
        "print(var5)\n",
        "\n",
        "var5 = 8587                          # assigned integer value to var5\n",
        "print(var5)"
      ],
      "execution_count": 0,
      "outputs": [
        {
          "output_type": "stream",
          "text": [
            "I am String!!!\n",
            "8587\n"
          ],
          "name": "stdout"
        }
      ]
    },
    {
      "metadata": {
        "id": "YF8OTIssA8-Q",
        "colab_type": "text"
      },
      "cell_type": "markdown",
      "source": [
        "#### Type Casting"
      ]
    },
    {
      "metadata": {
        "id": "jEIzHXQ3BWk2",
        "colab_type": "text"
      },
      "cell_type": "markdown",
      "source": [
        "##### To Integer"
      ]
    },
    {
      "metadata": {
        "id": "QgqHWVei-YNJ",
        "colab_type": "code",
        "colab": {}
      },
      "cell_type": "code",
      "source": [
        "ivar1 = int(12345)                    # integer to integer\n",
        "ivar2 = int(123.4567)                 # float to integer\n",
        "ivar3 = int(\"567432\")                 # string to integer"
      ],
      "execution_count": 0,
      "outputs": []
    },
    {
      "metadata": {
        "id": "7OMMDNnfCHrm",
        "colab_type": "code",
        "outputId": "f53d48d8-4c95-4917-f951-f477869bb10f",
        "colab": {
          "base_uri": "https://localhost:8080/",
          "height": 34
        }
      },
      "cell_type": "code",
      "source": [
        "print(ivar1, ivar2, ivar3)"
      ],
      "execution_count": 0,
      "outputs": [
        {
          "output_type": "stream",
          "text": [
            "12345 123 567432\n"
          ],
          "name": "stdout"
        }
      ]
    },
    {
      "metadata": {
        "colab_type": "text",
        "id": "4rwqQTrPCqCu"
      },
      "cell_type": "markdown",
      "source": [
        "##### To Float"
      ]
    },
    {
      "metadata": {
        "colab_type": "code",
        "id": "dY3LXE18CqCx",
        "colab": {}
      },
      "cell_type": "code",
      "source": [
        "fvar1 = float(12345)                   # integer to float\n",
        "fvar2 = float(123.4567)                # float to float\n",
        "fvar3 = float(\"567432\")                # string to float\n",
        "fvar4 = float(\"567.432\")               # string to float"
      ],
      "execution_count": 0,
      "outputs": []
    },
    {
      "metadata": {
        "colab_type": "code",
        "outputId": "bb800cc5-1c03-4d8a-9bcc-b3c8b7338b51",
        "id": "kc1Oktt-CqC6",
        "colab": {
          "base_uri": "https://localhost:8080/",
          "height": 34
        }
      },
      "cell_type": "code",
      "source": [
        "print(fvar1, fvar2, fvar3, fvar4)"
      ],
      "execution_count": 0,
      "outputs": [
        {
          "output_type": "stream",
          "text": [
            "12345.0 123.4567 567432.0 567.432\n"
          ],
          "name": "stdout"
        }
      ]
    },
    {
      "metadata": {
        "colab_type": "text",
        "id": "pQbH2QuoDZb1"
      },
      "cell_type": "markdown",
      "source": [
        "##### To String"
      ]
    },
    {
      "metadata": {
        "colab_type": "code",
        "id": "__w06FH1DZb5",
        "colab": {}
      },
      "cell_type": "code",
      "source": [
        "svar1 = str(12345)                     # integer to string\n",
        "svar2 = str(123.4567)                  # float to string\n",
        "svar3 = str(\"567432\")                  # string to string\n",
        "svar4 = str(False)                     # boolean to string\n",
        "svar5 = str(3 + 4j)                    # complex to string"
      ],
      "execution_count": 0,
      "outputs": []
    },
    {
      "metadata": {
        "colab_type": "code",
        "outputId": "a88d6e71-782a-4c26-bab5-b05f9419a120",
        "id": "7K8a71BIDZcC",
        "colab": {
          "base_uri": "https://localhost:8080/",
          "height": 34
        }
      },
      "cell_type": "code",
      "source": [
        "print(svar1, svar2, svar3, svar4, svar5)"
      ],
      "execution_count": 0,
      "outputs": [
        {
          "output_type": "stream",
          "text": [
            "12345 123.4567 567432 False (3+4j)\n"
          ],
          "name": "stdout"
        }
      ]
    },
    {
      "metadata": {
        "id": "XUFkPq1NFWOe",
        "colab_type": "text"
      },
      "cell_type": "markdown",
      "source": [
        "#### type(obj) method:"
      ]
    },
    {
      "metadata": {
        "id": "nP-Qbz9uDpaE",
        "colab_type": "code",
        "outputId": "12425e47-fe70-4062-aaca-a48d331b9388",
        "colab": {
          "base_uri": "https://localhost:8080/",
          "height": 101
        }
      },
      "cell_type": "code",
      "source": [
        "var1 = 314\n",
        "print(type(var1))\n",
        "\n",
        "var2 = 3.1415\n",
        "print(type(var2))\n",
        "           \n",
        "var3 = \"january\"\n",
        "print(type(var3))\n",
        "\n",
        "var4 = True\n",
        "print(type(var4))\n",
        "\n",
        "var5 = 3 + 4j\n",
        "print(type(var5))"
      ],
      "execution_count": 0,
      "outputs": [
        {
          "output_type": "stream",
          "text": [
            "<class 'int'>\n",
            "<class 'float'>\n",
            "<class 'str'>\n",
            "<class 'bool'>\n",
            "<class 'complex'>\n"
          ],
          "name": "stdout"
        }
      ]
    },
    {
      "metadata": {
        "id": "sDD4XauHGOZk",
        "colab_type": "text"
      },
      "cell_type": "markdown",
      "source": [
        "#### isinstance() method:"
      ]
    },
    {
      "metadata": {
        "id": "CaWaEwmOGGMy",
        "colab_type": "code",
        "colab": {}
      },
      "cell_type": "code",
      "source": [
        "var1 = \"This is String!\""
      ],
      "execution_count": 0,
      "outputs": []
    },
    {
      "metadata": {
        "id": "opvdPvRLHYeM",
        "colab_type": "code",
        "outputId": "7dbae13e-4cfb-4089-de55-727338dfe0e0",
        "colab": {
          "base_uri": "https://localhost:8080/",
          "height": 101
        }
      },
      "cell_type": "code",
      "source": [
        "print(isinstance(var1, int))\n",
        "print(isinstance(var1, float))\n",
        "print(isinstance(var1, str))\n",
        "print(isinstance(var1, bool))\n",
        "print(isinstance(var1, complex))"
      ],
      "execution_count": 0,
      "outputs": [
        {
          "output_type": "stream",
          "text": [
            "False\n",
            "False\n",
            "True\n",
            "False\n",
            "False\n"
          ],
          "name": "stdout"
        }
      ]
    },
    {
      "metadata": {
        "id": "4fPmyc9oH65g",
        "colab_type": "text"
      },
      "cell_type": "markdown",
      "source": [
        "#### id(obj) method:"
      ]
    },
    {
      "metadata": {
        "id": "p_cGzPI2HfpI",
        "colab_type": "code",
        "colab": {}
      },
      "cell_type": "code",
      "source": [
        "var1 = 123\n",
        "var2 = \"abcd\"\n",
        "var3 = 123\n",
        "var4 = var2"
      ],
      "execution_count": 0,
      "outputs": []
    },
    {
      "metadata": {
        "id": "4Tr__gubIDJe",
        "colab_type": "code",
        "outputId": "7ca1f5bd-95d7-437d-d442-edcb020cd3f2",
        "colab": {
          "base_uri": "https://localhost:8080/",
          "height": 84
        }
      },
      "cell_type": "code",
      "source": [
        "print(id(var1))\n",
        "print(id(var2))\n",
        "print(id(var3))\n",
        "print(id(var4))"
      ],
      "execution_count": 0,
      "outputs": [
        {
          "output_type": "stream",
          "text": [
            "10914304\n",
            "139981411315248\n",
            "10914304\n",
            "139981411315248\n"
          ],
          "name": "stdout"
        }
      ]
    },
    {
      "metadata": {
        "id": "BxtGRHpFIE9y",
        "colab_type": "code",
        "colab": {}
      },
      "cell_type": "code",
      "source": [
        ""
      ],
      "execution_count": 0,
      "outputs": []
    },
    {
      "metadata": {
        "id": "yORVVdBjUku1",
        "colab_type": "text"
      },
      "cell_type": "markdown",
      "source": [
        "### Operators"
      ]
    },
    {
      "metadata": {
        "id": "cSjioO4hVNyI",
        "colab_type": "text"
      },
      "cell_type": "markdown",
      "source": [
        "#### Arithmetic operators"
      ]
    },
    {
      "metadata": {
        "id": "lYpRLaXjUoHZ",
        "colab_type": "code",
        "outputId": "e828e4f7-6b55-44d7-d141-9732aadf4e20",
        "colab": {
          "base_uri": "https://localhost:8080/",
          "height": 105
        }
      },
      "cell_type": "code",
      "source": [
        "a, b = 10, 4\n",
        "\n",
        "print('Addition', a + b)\n",
        "print('Division', a / b)\n",
        "print('Modulus', a % b)\n",
        "print('Exponentiation', a ** b)\n",
        "print('Floor division', a // b)"
      ],
      "execution_count": 0,
      "outputs": [
        {
          "output_type": "stream",
          "text": [
            "Addition 14\n",
            "Division 2.5\n",
            "Modulus 2\n",
            "Exponentiation 10000\n",
            "Floor division 2\n"
          ],
          "name": "stdout"
        }
      ]
    },
    {
      "metadata": {
        "id": "iero9qNtVooW",
        "colab_type": "text"
      },
      "cell_type": "markdown",
      "source": [
        "#### Comparision"
      ]
    },
    {
      "metadata": {
        "id": "Fk4zvnP5Vuhe",
        "colab_type": "code",
        "outputId": "e63d8bbf-e094-4dff-8628-247860190862",
        "colab": {
          "base_uri": "https://localhost:8080/",
          "height": 84
        }
      },
      "cell_type": "code",
      "source": [
        "a, b = 10, 4\n",
        "\n",
        "print('a == b', a == b)\n",
        "print('a != b', a != b)\n",
        "print('a > b', a > b)\n",
        "print('a >= b', a >= b)"
      ],
      "execution_count": 0,
      "outputs": [
        {
          "output_type": "stream",
          "text": [
            "a == b False\n",
            "a != b True\n",
            "a > b True\n",
            "a >= b True\n"
          ],
          "name": "stdout"
        }
      ]
    },
    {
      "metadata": {
        "id": "XANhOtonWDqm",
        "colab_type": "text"
      },
      "cell_type": "markdown",
      "source": [
        "#### Logical"
      ]
    },
    {
      "metadata": {
        "id": "zU_BwPIaWF9T",
        "colab_type": "code",
        "outputId": "8c200d47-0779-4ea6-aaa0-84066f537ad7",
        "colab": {
          "base_uri": "https://localhost:8080/",
          "height": 67
        }
      },
      "cell_type": "code",
      "source": [
        "a, b = 10, 4\n",
        "\n",
        "print('a == 10 and b > 3:', (a == 10 and b > 3))\n",
        "print('a > 5 or b > 5:', (a > 5 or b > 5))\n",
        "print('not b < 2:', not b < 2)"
      ],
      "execution_count": 0,
      "outputs": [
        {
          "output_type": "stream",
          "text": [
            "a == 10 and b > 3: True\n",
            "a > 5 or b > 5: True\n",
            "not b < 2: True\n"
          ],
          "name": "stdout"
        }
      ]
    },
    {
      "metadata": {
        "id": "-pOSn9OzcJ_n",
        "colab_type": "text"
      },
      "cell_type": "markdown",
      "source": [
        "#### Bitwise"
      ]
    },
    {
      "metadata": {
        "id": "BuOT0_G9cLmJ",
        "colab_type": "code",
        "outputId": "f94395eb-f935-4ad5-eb1c-75ed352d748e",
        "colab": {
          "base_uri": "https://localhost:8080/",
          "height": 67
        }
      },
      "cell_type": "code",
      "source": [
        "a = 15\n",
        "\n",
        "print(a << 2)\n",
        "print(a >> 2)\n",
        "print(~ a)"
      ],
      "execution_count": 0,
      "outputs": [
        {
          "output_type": "stream",
          "text": [
            "60\n",
            "3\n",
            "-16\n"
          ],
          "name": "stdout"
        }
      ]
    },
    {
      "metadata": {
        "id": "FPRSHdvIa1Ul",
        "colab_type": "text"
      },
      "cell_type": "markdown",
      "source": [
        "#### Membership"
      ]
    },
    {
      "metadata": {
        "id": "nSZSWHJva3ps",
        "colab_type": "code",
        "outputId": "9c2f320c-0f2c-47fc-a55c-583e1ea6ede8",
        "colab": {
          "base_uri": "https://localhost:8080/",
          "height": 50
        }
      },
      "cell_type": "code",
      "source": [
        "a = ['a', 'b', 'c', 'd']\n",
        "\n",
        "print('c' in a)\n",
        "print('b' not in a)"
      ],
      "execution_count": 0,
      "outputs": [
        {
          "output_type": "stream",
          "text": [
            "True\n",
            "False\n"
          ],
          "name": "stdout"
        }
      ]
    },
    {
      "metadata": {
        "id": "O0qj7GVTabkg",
        "colab_type": "text"
      },
      "cell_type": "markdown",
      "source": [
        "#### Identity"
      ]
    },
    {
      "metadata": {
        "id": "WZNK2YPBadTA",
        "colab_type": "code",
        "outputId": "338bb848-e777-4e84-899e-b2bdada7d4ce",
        "colab": {
          "base_uri": "https://localhost:8080/",
          "height": 67
        }
      },
      "cell_type": "code",
      "source": [
        "x = [\"apple\", \"banana\"]\n",
        "y = [\"apple\", \"banana\"]\n",
        "z = x\n",
        "\n",
        "print(x is z)\n",
        "print(x is y)\n",
        "print(x == y)"
      ],
      "execution_count": 0,
      "outputs": [
        {
          "output_type": "stream",
          "text": [
            "True\n",
            "False\n",
            "True\n"
          ],
          "name": "stdout"
        }
      ]
    },
    {
      "metadata": {
        "id": "TkChiPgNctqY",
        "colab_type": "text"
      },
      "cell_type": "markdown",
      "source": [
        "### Control Flow Structures"
      ]
    },
    {
      "metadata": {
        "id": "mZNrptPOdL_2",
        "colab_type": "text"
      },
      "cell_type": "markdown",
      "source": [
        "#### If...else"
      ]
    },
    {
      "metadata": {
        "id": "0LuEvp0Jcx5-",
        "colab_type": "code",
        "outputId": "c67b0d00-5683-4b8d-82be-544ab328042c",
        "colab": {
          "base_uri": "https://localhost:8080/",
          "height": 34
        }
      },
      "cell_type": "code",
      "source": [
        "age = 14\n",
        "\n",
        "if age > 18:\n",
        "  print('Adult')\n",
        "else:\n",
        "  print('Not an adult')"
      ],
      "execution_count": 0,
      "outputs": [
        {
          "output_type": "stream",
          "text": [
            "Not an adult\n"
          ],
          "name": "stdout"
        }
      ]
    },
    {
      "metadata": {
        "id": "zFoJXDa4dRDO",
        "colab_type": "code",
        "outputId": "0b2e0fdd-f823-494a-a751-6f5883f29230",
        "colab": {
          "base_uri": "https://localhost:8080/",
          "height": 34
        }
      },
      "cell_type": "code",
      "source": [
        "marks = 41\n",
        "\n",
        "if type(marks) == int:\n",
        "  if marks >= 90:\n",
        "    print('Grade A')\n",
        "  elif marks >= 70 and marks < 90:\n",
        "    print('Grade B')\n",
        "  elif marks >= 40 and marks < 70:\n",
        "    print('Grade C')\n",
        "  else:\n",
        "    print('Fail')\n",
        "else: print('Marks should be integer')"
      ],
      "execution_count": 0,
      "outputs": [
        {
          "output_type": "stream",
          "text": [
            "Grade C\n"
          ],
          "name": "stdout"
        }
      ]
    },
    {
      "metadata": {
        "id": "xqCS72I0fd7Q",
        "colab_type": "text"
      },
      "cell_type": "markdown",
      "source": [
        "#### While loop"
      ]
    },
    {
      "metadata": {
        "id": "CGTMjtRGfhRb",
        "colab_type": "code",
        "outputId": "85d9f127-630f-4cf1-8028-cd45ef1282ba",
        "colab": {
          "base_uri": "https://localhost:8080/",
          "height": 118
        }
      },
      "cell_type": "code",
      "source": [
        "i = 50\n",
        "\n",
        "while i >= 0:\n",
        "  print(i)\n",
        "  i -= 10;"
      ],
      "execution_count": 0,
      "outputs": [
        {
          "output_type": "stream",
          "text": [
            "50\n",
            "40\n",
            "30\n",
            "20\n",
            "10\n",
            "0\n"
          ],
          "name": "stdout"
        }
      ]
    },
    {
      "metadata": {
        "id": "UZHtJzU1gsc-",
        "colab_type": "text"
      },
      "cell_type": "markdown",
      "source": [
        "#### For loop"
      ]
    },
    {
      "metadata": {
        "id": "3VhdL-wegu8J",
        "colab_type": "code",
        "outputId": "3e26c9d3-9daf-4bd1-ef10-35c81c7b0e6f",
        "colab": {
          "base_uri": "https://localhost:8080/",
          "height": 67
        }
      },
      "cell_type": "code",
      "source": [
        "cnos = [2+3j, 5-8j, -9+7j]\n",
        "\n",
        "for number in cnos:\n",
        "  print(number)"
      ],
      "execution_count": 0,
      "outputs": [
        {
          "output_type": "stream",
          "text": [
            "(2+3j)\n",
            "(5-8j)\n",
            "(-9+7j)\n"
          ],
          "name": "stdout"
        }
      ]
    },
    {
      "metadata": {
        "id": "4fJhIdgOhKUH",
        "colab_type": "code",
        "outputId": "d8861718-119b-48b3-ef0e-ef26b72e26b2",
        "colab": {
          "base_uri": "https://localhost:8080/",
          "height": 101
        }
      },
      "cell_type": "code",
      "source": [
        "for i in range(10, 1, -2):\n",
        "  print(i)"
      ],
      "execution_count": 0,
      "outputs": [
        {
          "output_type": "stream",
          "text": [
            "10\n",
            "8\n",
            "6\n",
            "4\n",
            "2\n"
          ],
          "name": "stdout"
        }
      ]
    },
    {
      "metadata": {
        "id": "wcbPrkxuhfbv",
        "colab_type": "code",
        "outputId": "ec967451-cb4a-494f-e532-46e3fb233513",
        "colab": {
          "base_uri": "https://localhost:8080/",
          "height": 84
        }
      },
      "cell_type": "code",
      "source": [
        "for i in range(6):\n",
        "  print(i)\n",
        "  if i == 3:\n",
        "    break\n",
        "else:\n",
        "  print('Finished')"
      ],
      "execution_count": 0,
      "outputs": [
        {
          "output_type": "stream",
          "text": [
            "0\n",
            "1\n",
            "2\n",
            "3\n"
          ],
          "name": "stdout"
        }
      ]
    },
    {
      "metadata": {
        "id": "dUkNvkkTivoO",
        "colab_type": "code",
        "outputId": "86780d79-5d3e-454d-a6f5-b900b91228d7",
        "colab": {
          "base_uri": "https://localhost:8080/",
          "height": 151
        }
      },
      "cell_type": "code",
      "source": [
        "i = 1\n",
        "while i <= 10:\n",
        "  i += 1\n",
        "  if i < 5:\n",
        "    continue\n",
        "  print(i)\n",
        "else:\n",
        "  print('Finished')"
      ],
      "execution_count": 0,
      "outputs": [
        {
          "output_type": "stream",
          "text": [
            "5\n",
            "6\n",
            "7\n",
            "8\n",
            "9\n",
            "10\n",
            "11\n",
            "Finished\n"
          ],
          "name": "stdout"
        }
      ]
    },
    {
      "metadata": {
        "id": "yXoX7VTBlLtG",
        "colab_type": "text"
      },
      "cell_type": "markdown",
      "source": [
        "### Functions"
      ]
    },
    {
      "metadata": {
        "id": "4Yzq3Garmnzn",
        "colab_type": "text"
      },
      "cell_type": "markdown",
      "source": [
        "#### pass"
      ]
    },
    {
      "metadata": {
        "id": "BEXWRn--lK0R",
        "colab_type": "code",
        "colab": {}
      },
      "cell_type": "code",
      "source": [
        "def printString(mystr):\n",
        "  pass"
      ],
      "execution_count": 0,
      "outputs": []
    },
    {
      "metadata": {
        "id": "cQsT_X2YlSfb",
        "colab_type": "code",
        "outputId": "1377641a-2dcb-459b-8c43-625c420919f2",
        "colab": {
          "base_uri": "https://localhost:8080/",
          "height": 34
        }
      },
      "cell_type": "code",
      "source": [
        "def multiplyNumbers(x, y, z):\n",
        "  return x * y * z\n",
        "    \n",
        "    \n",
        "a, b, c = 5, 2, 8\n",
        "print('Product =', multiplyNumbers(a, b, c))"
      ],
      "execution_count": 0,
      "outputs": [
        {
          "output_type": "stream",
          "text": [
            "Product = 80\n"
          ],
          "name": "stdout"
        }
      ]
    },
    {
      "metadata": {
        "id": "z6P3SU77nroo",
        "colab_type": "text"
      },
      "cell_type": "markdown",
      "source": [
        "#### Keyword arguments"
      ]
    },
    {
      "metadata": {
        "id": "nhaos-qPnt73",
        "colab_type": "code",
        "outputId": "f5ce263e-a0eb-4081-9430-ee038785c457",
        "colab": {
          "base_uri": "https://localhost:8080/",
          "height": 50
        }
      },
      "cell_type": "code",
      "source": [
        "def myFunction(fname, lname, age):\n",
        "  print('My name is '+fname+' '+lname)\n",
        "  print('My age is ', age)\n",
        "    \n",
        "\n",
        "# myFunction('ABC', 25, 'PQR')    # ERROR !\n",
        "myFunction(lname='ABC', age=25, fname='PQR')"
      ],
      "execution_count": 0,
      "outputs": [
        {
          "output_type": "stream",
          "text": [
            "My name is PQR ABC\n",
            "My age is  25\n"
          ],
          "name": "stdout"
        }
      ]
    },
    {
      "metadata": {
        "id": "HqfdxprOmqQF",
        "colab_type": "text"
      },
      "cell_type": "markdown",
      "source": [
        "#### Default arguments"
      ]
    },
    {
      "metadata": {
        "id": "PrmoUT5Xmjqx",
        "colab_type": "code",
        "outputId": "427a7052-b81d-4dff-f1e7-80d528d59d5e",
        "colab": {
          "base_uri": "https://localhost:8080/",
          "height": 34
        }
      },
      "cell_type": "code",
      "source": [
        "def multiplyNumbers(x=1, y=1, z=1):\n",
        "  return x * y * z\n",
        "    \n",
        "    \n",
        "a, b, c = 5, 2, 8\n",
        "print('Product =', multiplyNumbers(a, b, c))"
      ],
      "execution_count": 0,
      "outputs": [
        {
          "output_type": "stream",
          "text": [
            "Product = 80\n"
          ],
          "name": "stdout"
        }
      ]
    },
    {
      "metadata": {
        "id": "9vv47suOoJHF",
        "colab_type": "text"
      },
      "cell_type": "markdown",
      "source": [
        "#### Variable arguments"
      ]
    },
    {
      "metadata": {
        "id": "4xbu5HNGoLVp",
        "colab_type": "code",
        "outputId": "c354cd62-2532-40a1-fb66-70320e251c92",
        "colab": {
          "base_uri": "https://localhost:8080/",
          "height": 67
        }
      },
      "cell_type": "code",
      "source": [
        "def AddNumbers(x = 0, *varg):\n",
        "  s = x\n",
        "  for var in varg:\n",
        "    s += var\n",
        "  return s\n",
        "    \n",
        "    \n",
        "a, b, c = 5, 2, 8\n",
        "print('Sum =', AddNumbers())\n",
        "print('Sum =', AddNumbers(2,3))\n",
        "print('Sum =', AddNumbers(2,3,6,1,2))"
      ],
      "execution_count": 0,
      "outputs": [
        {
          "output_type": "stream",
          "text": [
            "Sum = 0\n",
            "Sum = 5\n",
            "Sum = 14\n"
          ],
          "name": "stdout"
        }
      ]
    },
    {
      "metadata": {
        "id": "3Oo3vejco32I",
        "colab_type": "text"
      },
      "cell_type": "markdown",
      "source": [
        "#### Lambda functions"
      ]
    },
    {
      "metadata": {
        "id": "TWFKf4Rdo54V",
        "colab_type": "code",
        "outputId": "ec4018ca-69ab-45bb-f410-0746fe032a66",
        "colab": {
          "base_uri": "https://localhost:8080/",
          "height": 50
        }
      },
      "cell_type": "code",
      "source": [
        "def testFunction(n):\n",
        "  return lambda a : a * n\n",
        "\n",
        "\n",
        "doubler = testFunction(2)\n",
        "print(doubler(8))\n",
        "\n",
        "\n",
        "tripler = testFunction(3)\n",
        "print(tripler(8))"
      ],
      "execution_count": 0,
      "outputs": [
        {
          "output_type": "stream",
          "text": [
            "16\n",
            "24\n"
          ],
          "name": "stdout"
        }
      ]
    },
    {
      "metadata": {
        "id": "aeP5J04Zp6h-",
        "colab_type": "text"
      },
      "cell_type": "markdown",
      "source": [
        "### Data Structures"
      ]
    },
    {
      "metadata": {
        "id": "QKKycRSkp_Gm",
        "colab_type": "text"
      },
      "cell_type": "markdown",
      "source": [
        "#### List"
      ]
    },
    {
      "metadata": {
        "id": "WHRR8syHtczx",
        "colab_type": "text"
      },
      "cell_type": "markdown",
      "source": [
        "##### Change an item"
      ]
    },
    {
      "metadata": {
        "id": "Dd59RPY9qBTa",
        "colab_type": "code",
        "outputId": "6f33e9b0-afbb-42c1-ef11-8502f3c7ae07",
        "colab": {
          "base_uri": "https://localhost:8080/",
          "height": 52
        }
      },
      "cell_type": "code",
      "source": [
        "mylist = ['item0', 1, 'item2', 3]\n",
        "print(mylist[1])\n",
        "\n",
        "mylist[1] = 'A'\n",
        "print(mylist)"
      ],
      "execution_count": 0,
      "outputs": [
        {
          "output_type": "stream",
          "text": [
            "1\n",
            "['item0', 'A', 'item2', 3]\n"
          ],
          "name": "stdout"
        }
      ]
    },
    {
      "metadata": {
        "id": "0pEdKJhdtfnh",
        "colab_type": "text"
      },
      "cell_type": "markdown",
      "source": [
        "##### List methods"
      ]
    },
    {
      "metadata": {
        "id": "OG4ZPcSrr6y4",
        "colab_type": "code",
        "outputId": "889c54c6-3e11-4d72-f614-55fef54a3a0e",
        "colab": {
          "base_uri": "https://localhost:8080/",
          "height": 52
        }
      },
      "cell_type": "code",
      "source": [
        "print(mylist.pop())\n",
        "print(mylist)"
      ],
      "execution_count": 0,
      "outputs": [
        {
          "output_type": "stream",
          "text": [
            "3\n",
            "['item0', 'A', 'item2']\n"
          ],
          "name": "stdout"
        }
      ]
    },
    {
      "metadata": {
        "id": "WP8Me80Br-a2",
        "colab_type": "code",
        "outputId": "b8688317-4b0b-4329-d4ea-6b12f7101a18",
        "colab": {
          "base_uri": "https://localhost:8080/",
          "height": 34
        }
      },
      "cell_type": "code",
      "source": [
        "mylist.insert(2, 3)\n",
        "print(mylist)"
      ],
      "execution_count": 0,
      "outputs": [
        {
          "output_type": "stream",
          "text": [
            "['item0', 'A', 3, 'item2']\n"
          ],
          "name": "stdout"
        }
      ]
    },
    {
      "metadata": {
        "id": "jZLntDHluOge",
        "colab_type": "code",
        "outputId": "e86aa6d2-acc2-459c-e53d-7ba40068e3b0",
        "colab": {
          "base_uri": "https://localhost:8080/",
          "height": 34
        }
      },
      "cell_type": "code",
      "source": [
        "mylist.append('temp')\n",
        "print(mylist)"
      ],
      "execution_count": 0,
      "outputs": [
        {
          "output_type": "stream",
          "text": [
            "['item0', 'A', 'item2', 3, 'temp']\n"
          ],
          "name": "stdout"
        }
      ]
    },
    {
      "metadata": {
        "id": "VRf7rVMVwQFL",
        "colab_type": "code",
        "outputId": "f9d2d1af-4e01-44a2-de88-b3df4b1351b3",
        "colab": {
          "base_uri": "https://localhost:8080/",
          "height": 34
        }
      },
      "cell_type": "code",
      "source": [
        "mylist.remove('temp')\n",
        "print(mylist)"
      ],
      "execution_count": 0,
      "outputs": [
        {
          "output_type": "stream",
          "text": [
            "['item0', 'A', 'item2', 3]\n"
          ],
          "name": "stdout"
        }
      ]
    },
    {
      "metadata": {
        "id": "CY-xXNiLujOG",
        "colab_type": "text"
      },
      "cell_type": "markdown",
      "source": [
        "##### Using list constructor"
      ]
    },
    {
      "metadata": {
        "id": "ZKhcUiFEuXfh",
        "colab_type": "code",
        "outputId": "ba87dfd4-693f-4263-b1f1-435dabd51114",
        "colab": {
          "base_uri": "https://localhost:8080/",
          "height": 34
        }
      },
      "cell_type": "code",
      "source": [
        "mylist = list(('item0', 1, 'item2', 3))\n",
        "print(mylist)"
      ],
      "execution_count": 0,
      "outputs": [
        {
          "output_type": "stream",
          "text": [
            "['item0', 1, 'item2', 3]\n"
          ],
          "name": "stdout"
        }
      ]
    },
    {
      "metadata": {
        "id": "A5hWBpa5unCK",
        "colab_type": "text"
      },
      "cell_type": "markdown",
      "source": [
        "##### del keyword"
      ]
    },
    {
      "metadata": {
        "id": "sY1T58HDupWP",
        "colab_type": "code",
        "outputId": "87fae1be-220e-4c4a-ce13-edde6ed6f85f",
        "colab": {
          "base_uri": "https://localhost:8080/",
          "height": 34
        }
      },
      "cell_type": "code",
      "source": [
        "del mylist[2]\n",
        "print(mylist)\n",
        "del mylist"
      ],
      "execution_count": 0,
      "outputs": [
        {
          "output_type": "stream",
          "text": [
            "['item0', 1]\n"
          ],
          "name": "stdout"
        }
      ]
    },
    {
      "metadata": {
        "id": "fYsaUNj5ussF",
        "colab_type": "text"
      },
      "cell_type": "markdown",
      "source": [
        "##### Looping through the list"
      ]
    },
    {
      "metadata": {
        "id": "v8X8f7Bwrjwi",
        "colab_type": "code",
        "outputId": "b86cb304-d258-43dc-c46b-2cdb693e3de7",
        "colab": {
          "base_uri": "https://localhost:8080/",
          "height": 87
        }
      },
      "cell_type": "code",
      "source": [
        "mylist = ['item0', 1, 'item2', 3]\n",
        "for item in mylist:\n",
        "  print(item)"
      ],
      "execution_count": 0,
      "outputs": [
        {
          "output_type": "stream",
          "text": [
            "item0\n",
            "1\n",
            "item2\n",
            "3\n"
          ],
          "name": "stdout"
        }
      ]
    },
    {
      "metadata": {
        "id": "_Vv-4YhdvG1c",
        "colab_type": "text"
      },
      "cell_type": "markdown",
      "source": [
        "##### Builtin list methods"
      ]
    },
    {
      "metadata": {
        "id": "91xttVoIrqBS",
        "colab_type": "code",
        "outputId": "0865cffa-9732-4ade-ea93-0895b605f7a6",
        "colab": {
          "base_uri": "https://localhost:8080/",
          "height": 70
        }
      },
      "cell_type": "code",
      "source": [
        "mylist = [0, 1, 2, 3]\n",
        "print(len(mylist))\n",
        "print(max(mylist))\n",
        "print(min(mylist))"
      ],
      "execution_count": 0,
      "outputs": [
        {
          "output_type": "stream",
          "text": [
            "4\n",
            "3\n",
            "0\n"
          ],
          "name": "stdout"
        }
      ]
    },
    {
      "metadata": {
        "colab_type": "text",
        "id": "uwGTVsIJwqzG"
      },
      "cell_type": "markdown",
      "source": [
        "#### Tuple"
      ]
    },
    {
      "metadata": {
        "colab_type": "text",
        "id": "ZhFa8oBywqzM"
      },
      "cell_type": "markdown",
      "source": [
        "##### Change an item"
      ]
    },
    {
      "metadata": {
        "colab_type": "code",
        "outputId": "488e61ed-296d-4c05-f39a-de5d0b1cfd6e",
        "id": "9mV4p_PxwqzO",
        "colab": {
          "base_uri": "https://localhost:8080/",
          "height": 52
        }
      },
      "cell_type": "code",
      "source": [
        "mytuple = ('item0', 1, 'item2', 3)\n",
        "print(mytuple)\n",
        "# mytuple[1] = 'A'  # ERROR !\n",
        "print(mytuple[1])"
      ],
      "execution_count": 0,
      "outputs": [
        {
          "output_type": "stream",
          "text": [
            "('item0', 1, 'item2', 3)\n",
            "1\n"
          ],
          "name": "stdout"
        }
      ]
    },
    {
      "metadata": {
        "colab_type": "text",
        "id": "QG7qwHUPwqzZ"
      },
      "cell_type": "markdown",
      "source": [
        "##### Tuple methods"
      ]
    },
    {
      "metadata": {
        "colab_type": "code",
        "outputId": "27bb8118-2c76-4ae4-c611-73275cb8c3b3",
        "id": "4B4rNB3Dwqzf",
        "colab": {
          "base_uri": "https://localhost:8080/",
          "height": 34
        }
      },
      "cell_type": "code",
      "source": [
        "mytuple = ('item0', 1, 'item2', 1)\n",
        "print(mytuple.count(1))"
      ],
      "execution_count": 0,
      "outputs": [
        {
          "output_type": "stream",
          "text": [
            "2\n"
          ],
          "name": "stdout"
        }
      ]
    },
    {
      "metadata": {
        "id": "uyzi9XTUuxqu",
        "colab_type": "code",
        "outputId": "7ebe3f54-67cd-4124-ecbf-f5e07fddaa71",
        "colab": {
          "base_uri": "https://localhost:8080/",
          "height": 34
        }
      },
      "cell_type": "code",
      "source": [
        "mytuple.index(1)"
      ],
      "execution_count": 0,
      "outputs": [
        {
          "output_type": "execute_result",
          "data": {
            "text/plain": [
              "1"
            ]
          },
          "metadata": {
            "tags": []
          },
          "execution_count": 128
        }
      ]
    },
    {
      "metadata": {
        "colab_type": "text",
        "id": "XITeljiJy6ur"
      },
      "cell_type": "markdown",
      "source": [
        "#### Dictionary"
      ]
    },
    {
      "metadata": {
        "colab_type": "text",
        "id": "ryVJj8vly6uv"
      },
      "cell_type": "markdown",
      "source": [
        "##### Change an item"
      ]
    },
    {
      "metadata": {
        "colab_type": "code",
        "outputId": "082af1f3-791b-4035-9ec1-ddcf927ecee7",
        "id": "fdcQP6z6y6uz",
        "colab": {
          "base_uri": "https://localhost:8080/",
          "height": 70
        }
      },
      "cell_type": "code",
      "source": [
        "mydict =\t{\n",
        "  \"fname\": \"abc\",\n",
        "  \"lname\": \"pqr\",\n",
        "  \"age\": 25\n",
        "}\n",
        "\n",
        "print(mydict[\"age\"])\n",
        "print(mydict.get(\"fname\"))\n",
        "\n",
        "mydict[\"lname\"] = 'xyz'\n",
        "print(mydict[\"lname\"])"
      ],
      "execution_count": 0,
      "outputs": [
        {
          "output_type": "stream",
          "text": [
            "25\n",
            "abc\n",
            "xyz\n"
          ],
          "name": "stdout"
        }
      ]
    },
    {
      "metadata": {
        "colab_type": "text",
        "id": "3CrQ07bey6vJ"
      },
      "cell_type": "markdown",
      "source": [
        "##### Dictionary methods"
      ]
    },
    {
      "metadata": {
        "colab_type": "code",
        "outputId": "7a365810-2996-42b4-9b6e-6f32fced203d",
        "id": "44hRI41Zy6vM",
        "colab": {
          "base_uri": "https://localhost:8080/",
          "height": 52
        }
      },
      "cell_type": "code",
      "source": [
        "mydict =\t{\n",
        "  \"fname\": \"abc\",\n",
        "  \"lname\": \"pqr\",\n",
        "  \"age\": 25\n",
        "}\n",
        "\n",
        "print(mydict.keys())\n",
        "print(mydict.items())\n",
        "  "
      ],
      "execution_count": 0,
      "outputs": [
        {
          "output_type": "stream",
          "text": [
            "dict_keys(['fname', 'lname', 'age'])\n",
            "dict_items([('fname', 'abc'), ('lname', 'pqr'), ('age', 25)])\n"
          ],
          "name": "stdout"
        }
      ]
    },
    {
      "metadata": {
        "id": "lHnCmQ6y0S1m",
        "colab_type": "code",
        "outputId": "d9c8ddca-83fd-4a14-b96b-1a376a2e4cba",
        "colab": {
          "base_uri": "https://localhost:8080/",
          "height": 34
        }
      },
      "cell_type": "code",
      "source": [
        "mydict[\"city\"] = \"Vadodara\"\n",
        "print(mydict)"
      ],
      "execution_count": 0,
      "outputs": [
        {
          "output_type": "stream",
          "text": [
            "{'fname': 'abc', 'lname': 'pqr', 'age': 25, 'city': 'Vadodara'}\n"
          ],
          "name": "stdout"
        }
      ]
    },
    {
      "metadata": {
        "id": "Oer18ibZ0gag",
        "colab_type": "code",
        "outputId": "cc84d200-7bf5-487c-db61-d5da233efb0f",
        "colab": {
          "base_uri": "https://localhost:8080/",
          "height": 34
        }
      },
      "cell_type": "code",
      "source": [
        "print(mydict.popitem())"
      ],
      "execution_count": 0,
      "outputs": [
        {
          "output_type": "stream",
          "text": [
            "('city', 'Vadodara')\n"
          ],
          "name": "stdout"
        }
      ]
    },
    {
      "metadata": {
        "id": "gM7hrggmwqPV",
        "colab_type": "text"
      },
      "cell_type": "markdown",
      "source": [
        "##### Looping through dictionary"
      ]
    },
    {
      "metadata": {
        "colab_type": "code",
        "outputId": "eda6b51a-3948-4487-bb25-dbca61d5009d",
        "id": "JUbHWFI4y6vW",
        "colab": {
          "base_uri": "https://localhost:8080/",
          "height": 70
        }
      },
      "cell_type": "code",
      "source": [
        "mydict =\t{\n",
        "  \"fname\": \"abc\",\n",
        "  \"lname\": \"pqr\",\n",
        "  \"age\": 25\n",
        "}\n",
        "\n",
        "for i in mydict.values():\n",
        "  print(i)"
      ],
      "execution_count": 0,
      "outputs": [
        {
          "output_type": "stream",
          "text": [
            "abc\n",
            "pqr\n",
            "25\n"
          ],
          "name": "stdout"
        }
      ]
    },
    {
      "metadata": {
        "id": "t8shIyPN0_Y9",
        "colab_type": "text"
      },
      "cell_type": "markdown",
      "source": [
        "##### Using dict constructor"
      ]
    },
    {
      "metadata": {
        "id": "8cVIaPbs1DFR",
        "colab_type": "code",
        "outputId": "142081ea-af4f-4c50-de92-69da65322a05",
        "colab": {
          "base_uri": "https://localhost:8080/",
          "height": 34
        }
      },
      "cell_type": "code",
      "source": [
        "d = dict(fname='abc', lname='pqr', age=25)\n",
        "str(d)"
      ],
      "execution_count": 0,
      "outputs": [
        {
          "output_type": "execute_result",
          "data": {
            "text/plain": [
              "\"{'fname': 'abc', 'lname': 'pqr', 'age': 25}\""
            ]
          },
          "metadata": {
            "tags": []
          },
          "execution_count": 143
        }
      ]
    },
    {
      "metadata": {
        "id": "3R_lUZE31ctB",
        "colab_type": "text"
      },
      "cell_type": "markdown",
      "source": [
        "#### Set"
      ]
    },
    {
      "metadata": {
        "colab_type": "code",
        "outputId": "c26a09c8-79cf-4aa6-affb-8fc59c107bfa",
        "id": "TSIGAf7O1q4R",
        "colab": {
          "base_uri": "https://localhost:8080/",
          "height": 34
        }
      },
      "cell_type": "code",
      "source": [
        "s = {2, 'abc', 4, 'h'}\n",
        "print(s)\n",
        "# print(s[0])    # ERROR !\n",
        "# s[0] = 'A'     # ERROR !"
      ],
      "execution_count": 0,
      "outputs": [
        {
          "output_type": "stream",
          "text": [
            "{'abc', 'h', 2, 4}\n"
          ],
          "name": "stdout"
        }
      ]
    },
    {
      "metadata": {
        "colab_type": "text",
        "id": "dhCAwJUe1q4b"
      },
      "cell_type": "markdown",
      "source": [
        "##### Set methods"
      ]
    },
    {
      "metadata": {
        "colab_type": "code",
        "outputId": "e38c2300-f8e3-419c-85c5-fedc3bbe57cb",
        "id": "PSU-TfuC1q4d",
        "colab": {
          "base_uri": "https://localhost:8080/",
          "height": 34
        }
      },
      "cell_type": "code",
      "source": [
        "s = {2, 'abc', 4, 'h'}\n",
        "s.add('new')\n",
        "print(s)\n",
        "  "
      ],
      "execution_count": 0,
      "outputs": [
        {
          "output_type": "stream",
          "text": [
            "{2, 4, 'new', 'abc', 'h'}\n"
          ],
          "name": "stdout"
        }
      ]
    },
    {
      "metadata": {
        "id": "zci0mq7B2iLd",
        "colab_type": "code",
        "outputId": "648f4937-9d2a-44ce-89b6-43f84e855031",
        "colab": {
          "base_uri": "https://localhost:8080/",
          "height": 87
        }
      },
      "cell_type": "code",
      "source": [
        "s1 = {2, 'abc', 4, 'h'}\n",
        "s2 = {2, 'def', 'c', 'h'}\n",
        "\n",
        "print('Union', s1.union(s2))\n",
        "print('Intersection', s1.intersection(s2))\n",
        "print('Difference', s1.difference(s2))\n",
        "print('Disjoint', s1.isdisjoint(s2))"
      ],
      "execution_count": 0,
      "outputs": [
        {
          "output_type": "stream",
          "text": [
            "Union {2, 'def', 4, 'abc', 'c', 'h'}\n",
            "Intersection {'h', 2}\n",
            "Difference {'abc', 4}\n",
            "Disjoint False\n"
          ],
          "name": "stdout"
        }
      ]
    },
    {
      "metadata": {
        "id": "NiYojzwz3P6g",
        "colab_type": "text"
      },
      "cell_type": "markdown",
      "source": [
        "### OOPS"
      ]
    },
    {
      "metadata": {
        "id": "yUUgp3kKj7Lb",
        "colab_type": "text"
      },
      "cell_type": "markdown",
      "source": [
        "#### Encapsulation"
      ]
    },
    {
      "metadata": {
        "id": "RPx0V_orSii8",
        "colab_type": "code",
        "outputId": "56fd3471-9253-4f0c-f742-0c5829b1c72f",
        "colab": {
          "base_uri": "https://localhost:8080/",
          "height": 87
        }
      },
      "cell_type": "code",
      "source": [
        "class Student:\n",
        "  'Class for all students'\n",
        "  count = 0                           # Class variable\n",
        "  \n",
        "  def __init__(self1, name, age):\n",
        "    self1.name = name                 # Instance variable\n",
        "    self1.age = age\n",
        "    Student.count += 1\n",
        "    \n",
        "  # Prints the name of student        # Instance method\n",
        "  def printName(self1):\n",
        "    print('Name is ', self1.name)\n",
        "  \n",
        "  # Returns the count of students\n",
        "  @staticmethod                       # Static method\n",
        "  def getCount():\n",
        "#   print(self1.name)                 # ERROR !\n",
        "    return Student.count\n",
        "  \n",
        "  \n",
        "  # Destructor\n",
        "  def __del__(self1):\n",
        "    print(\"Destroyed...!\")\n",
        "    \n",
        "\n",
        "\n",
        "s1 = Student('abc', 25)              # Instanstiate an object of Student class\n",
        "s1.printName()\n",
        "print(Student.getCount())\n",
        "print(s1.getCount())"
      ],
      "execution_count": 0,
      "outputs": [
        {
          "output_type": "stream",
          "text": [
            "Destroyed...!\n",
            "Name is  abc\n",
            "1\n",
            "1\n"
          ],
          "name": "stdout"
        }
      ]
    },
    {
      "metadata": {
        "id": "t4_-6Ok_TLIk",
        "colab_type": "code",
        "outputId": "81648a49-38cb-40c9-8fb6-e9023ad23984",
        "colab": {
          "base_uri": "https://localhost:8080/",
          "height": 122
        }
      },
      "cell_type": "code",
      "source": [
        "s1 = Student('abc', 25)\n",
        "\n",
        "print(getattr(s1, \"name\"))\n",
        "\n",
        "print(hasattr(s1, \"name\"))\n",
        "\n",
        "setattr(s1, \"name\", \"hi\")\n",
        "s1.printName()\n",
        "\n",
        "delattr(s1,\"name\")\n",
        "# s1.printName()        # ERROR !\n",
        "s2 = Student('abc', 25)\n",
        "\n",
        "s2.printName()\n",
        "\n",
        "del s2"
      ],
      "execution_count": 0,
      "outputs": [
        {
          "output_type": "stream",
          "text": [
            "Destroyed...!\n",
            "abc\n",
            "True\n",
            "Name is  hi\n",
            "Name is  abc\n",
            "Destroyed...!\n"
          ],
          "name": "stdout"
        }
      ]
    },
    {
      "metadata": {
        "id": "2qn2Qp1NUUVI",
        "colab_type": "code",
        "outputId": "fd4310d5-7abb-4d7b-8472-9549f6102542",
        "colab": {
          "base_uri": "https://localhost:8080/",
          "height": 125
        }
      },
      "cell_type": "code",
      "source": [
        "print (\"Student.__doc__:\", Student.__doc__)\n",
        "print (\"Student.__name__:\", Student.__name__)\n",
        "print (\"Student.__module__:\", Student.__module__)\n",
        "print (\"Student.__bases__:\", Student.__bases__)\n",
        "print (\"Student.__dict__:\", Student.__dict__ )"
      ],
      "execution_count": 0,
      "outputs": [
        {
          "output_type": "stream",
          "text": [
            "Student.__doc__: Class for all students\n",
            "Student.__name__: Student\n",
            "Student.__module__: __main__\n",
            "Student.__bases__: (<class 'object'>,)\n",
            "Student.__dict__: {'__module__': '__main__', '__doc__': 'Class for all students', 'count': 5, '__init__': <function Student.__init__ at 0x7f133020dc80>, 'printName': <function Student.printName at 0x7f133020dd08>, 'getCount': <function Student.getCount at 0x7f133020dd90>, '__dict__': <attribute '__dict__' of 'Student' objects>, '__weakref__': <attribute '__weakref__' of 'Student' objects>}\n"
          ],
          "name": "stdout"
        }
      ]
    },
    {
      "metadata": {
        "id": "lKMlc-mZUM-E",
        "colab_type": "text"
      },
      "cell_type": "markdown",
      "source": [
        "#### Inheritance"
      ]
    },
    {
      "metadata": {
        "id": "xuOWu1TsUQ-A",
        "colab_type": "code",
        "outputId": "a4b05ed8-7715-4fe4-fa26-dc939d7b04da",
        "colab": {
          "base_uri": "https://localhost:8080/",
          "height": 105
        }
      },
      "cell_type": "code",
      "source": [
        "# Parent class\n",
        "class Bird:\n",
        "    \n",
        "    # Initializer\n",
        "    def __init__(self):\n",
        "        print(\"Bird is ready\")\n",
        "\n",
        "    # Instance method\n",
        "    def whoisThis(self):\n",
        "        print(\"Bird\")\n",
        "\n",
        "    # Instance method\n",
        "    def swim(self):\n",
        "        print(\"Swim faster\")\n",
        "\n",
        "\n",
        "# Child class, inherits from Parent class Bird\n",
        "class Penguin(Bird):\n",
        "\n",
        "    # Initializer\n",
        "    def __init__(self):\n",
        "        # call super() function\n",
        "        super().__init__()\n",
        "        print(\"Penguin is ready\")\n",
        "\n",
        "    # Instance method\n",
        "    def whoisThis(self):\n",
        "        print(\"Penguin\")\n",
        "\n",
        "    # Instance method\n",
        "    \n",
        "    def run(self):\n",
        "        print(\"Run faster\")\n",
        "\n",
        "        \n",
        "\n",
        "peggy = Penguin()\n",
        "peggy.whoisThis()\n",
        "peggy.swim()\n",
        "peggy.run()"
      ],
      "execution_count": 0,
      "outputs": [
        {
          "output_type": "stream",
          "text": [
            "Bird is ready\n",
            "Penguin is ready\n",
            "Penguin\n",
            "Swim faster\n",
            "Run faster\n"
          ],
          "name": "stdout"
        }
      ]
    },
    {
      "metadata": {
        "id": "2b75lzFEYO13",
        "colab_type": "code",
        "outputId": "1d9c33d5-838d-423a-f0ce-da66f41f4f1d",
        "colab": {
          "base_uri": "https://localhost:8080/",
          "height": 158
        }
      },
      "cell_type": "code",
      "source": [
        "# Parent class\n",
        "class Dog:\n",
        "\n",
        "    # Class attribute\n",
        "    species = 'mammal'\n",
        "\n",
        "    # Initializer / Instance attributes\n",
        "    def __init__(self, name, age):\n",
        "        self.name = name\n",
        "        self.age = age\n",
        "        print(self.description())\n",
        "\n",
        "    # instance method\n",
        "    def description(self):\n",
        "        return \"{} is {} years old\".format(self.name, self.age)\n",
        "\n",
        "    # instance method\n",
        "    def speak(self, sound):\n",
        "        return \"{} says {}\".format(self.name, sound)\n",
        "\n",
        "\n",
        "\n",
        "# Child class (inherits from Dog() class)\n",
        "class RussellTerrier(Dog):\n",
        " \n",
        "    def run(self, speed):\n",
        "        return \"{} runs {}\".format(self.name, speed)\n",
        "\n",
        "\n",
        "# Child class (inherits from Dog() class)\n",
        "class Bulldog(Dog):\n",
        "      \n",
        "    def run(self, speed):\n",
        "        return \"{} runs {}\".format(self.name, speed)\n",
        "\n",
        "\n",
        "\n",
        "jim = Bulldog(\"Jim\", 12)\n",
        "print(jim.run(\"slowly\"))\n",
        "\n",
        "# Is jim an instance of Dog()?\n",
        "print(isinstance(jim, Dog))\n",
        "\n",
        "# Is julie an instance of Dog()?\n",
        "julie = Dog(\"Julie\", 100)\n",
        "print(isinstance(julie, Dog))\n",
        "\n",
        "# Is johnny walker an instance of Bulldog()\n",
        "johnnywalker = RussellTerrier(\"Johnny Walker\", 4)\n",
        "print(isinstance(johnnywalker, Bulldog))\n",
        "\n",
        "# Is julie an instance of jim?\n",
        "# print(isinstance(julie, jim))        # ERROR !\n",
        "\n",
        "\n",
        "# Is Bulldog subclass of Dog?\n",
        "print(issubclass(Bulldog, Dog))"
      ],
      "execution_count": 0,
      "outputs": [
        {
          "output_type": "stream",
          "text": [
            "Jim is 12 years old\n",
            "Jim runs slowly\n",
            "True\n",
            "Julie is 100 years old\n",
            "True\n",
            "Johnny Walker is 4 years old\n",
            "False\n",
            "True\n"
          ],
          "name": "stdout"
        }
      ]
    },
    {
      "metadata": {
        "id": "1ZCiTq-mevtQ",
        "colab_type": "text"
      },
      "cell_type": "markdown",
      "source": [
        "#### Overloading"
      ]
    },
    {
      "metadata": {
        "id": "JgdcIGk8daUt",
        "colab_type": "code",
        "colab": {}
      },
      "cell_type": "code",
      "source": [
        "class Vector:\n",
        "    # Initializer\n",
        "    def __init__(self, x = 0, y = 0):\n",
        "        self.x = x\n",
        "        self.y = y\n",
        "    \n",
        "    # Overloading base class method\n",
        "    def __str__(self):\n",
        "        return \"({0},{1})\".format(self.x,self.y)\n",
        "      \n",
        "    # Overloading '+' operator\n",
        "    def __add__(self,other):\n",
        "        x = self.x + other.x\n",
        "        y = self.y + other.y\n",
        "        return Vector(x,y) \n",
        "     \n",
        "    # Overloading '-' operator\n",
        "    def __sub__(self,other):\n",
        "        x = self.x * other.x\n",
        "        y = self.y * other.y\n",
        "        return Vector(x,y)"
      ],
      "execution_count": 0,
      "outputs": []
    },
    {
      "metadata": {
        "id": "rYolfP5Qg9Q_",
        "colab_type": "code",
        "outputId": "861bc612-dad2-4f20-8e1c-9f22b0e98421",
        "colab": {
          "base_uri": "https://localhost:8080/",
          "height": 52
        }
      },
      "cell_type": "code",
      "source": [
        "v1 = Vector(5, 7)\n",
        "print(v1)\n",
        "str(v1)\n",
        "# format(v1)"
      ],
      "execution_count": 0,
      "outputs": [
        {
          "output_type": "stream",
          "text": [
            "(5,7)\n"
          ],
          "name": "stdout"
        },
        {
          "output_type": "execute_result",
          "data": {
            "text/plain": [
              "'(5,7)'"
            ]
          },
          "metadata": {
            "tags": []
          },
          "execution_count": 57
        }
      ]
    },
    {
      "metadata": {
        "id": "AL4XSwFNfvSt",
        "colab_type": "code",
        "outputId": "c195733c-6320-46dc-f765-3fc725b0f5c8",
        "colab": {
          "base_uri": "https://localhost:8080/",
          "height": 52
        }
      },
      "cell_type": "code",
      "source": [
        "v1 = Vector(5, 7)\n",
        "v2 = Vector(2, 3)\n",
        "print(v1 + v2)\n",
        "print(v1 - v2)"
      ],
      "execution_count": 0,
      "outputs": [
        {
          "output_type": "stream",
          "text": [
            "(7,10)\n",
            "(10,21)\n"
          ],
          "name": "stdout"
        }
      ]
    },
    {
      "metadata": {
        "id": "J-W3gj6VhdQK",
        "colab_type": "text"
      },
      "cell_type": "markdown",
      "source": [
        "#### Abstraction"
      ]
    },
    {
      "metadata": {
        "id": "vsVZubIyhfGg",
        "colab_type": "code",
        "outputId": "45eba35b-d98a-464c-cd20-dc281375c901",
        "colab": {
          "base_uri": "https://localhost:8080/",
          "height": 122
        }
      },
      "cell_type": "code",
      "source": [
        "class Computer:\n",
        "  \n",
        "    __count = 0                     # Private class attr\n",
        "\n",
        "    # Initializer\n",
        "    def __init__(self):\n",
        "        self.__maxprice = 900       # Private instance attr\n",
        "        Computer.__count += 1\n",
        "\n",
        "    # instance method\n",
        "    def sell(self):\n",
        "        print(\"Selling Price: {}\".format(self.__maxprice))\n",
        "\n",
        "    # instance method\n",
        "    def setMaxPrice(self, price):\n",
        "        self.__maxprice = price\n",
        "        \n",
        "    # Private instance method\n",
        "    def __printPrice(self):\n",
        "        print(\"Max Price: {}\".format(self.__maxprice))\n",
        "        \n",
        "\n",
        "c = Computer()\n",
        "c.sell()\n",
        "\n",
        "# change the price\n",
        "\n",
        "c.__maxprice = 1000                # No change!\n",
        "c.sell()\n",
        "\n",
        "# using setter function\n",
        "c.setMaxPrice(1000)\n",
        "c.sell()\n",
        "\n",
        "# c.__printPrice()                 # ERROR !\n",
        "# print(c.__maxprice)              # ERROR !\n",
        "\n",
        "c._Computer__maxprice = 10         # Changed!\n",
        "c.sell()       \n",
        "\n",
        "c.newattr = 23                     # New attr added only to this instance\n",
        "print(c.newattr)\n",
        "\n",
        "c1 = Computer()\n",
        "# print(c1.newattr)                # ERROR !\n",
        "print(c.newattr)"
      ],
      "execution_count": 0,
      "outputs": [
        {
          "output_type": "stream",
          "text": [
            "Selling Price: 900\n",
            "Selling Price: 900\n",
            "Selling Price: 1000\n",
            "Selling Price: 10\n",
            "23\n",
            "23\n"
          ],
          "name": "stdout"
        }
      ]
    },
    {
      "metadata": {
        "id": "Eu6MS3syy5Vt",
        "colab_type": "text"
      },
      "cell_type": "markdown",
      "source": [
        "### String operations"
      ]
    },
    {
      "metadata": {
        "id": "BMgdk6FP1oGi",
        "colab_type": "text"
      },
      "cell_type": "markdown",
      "source": [
        "#### String methods"
      ]
    },
    {
      "metadata": {
        "id": "XC5leyQGzMQz",
        "colab_type": "code",
        "outputId": "c1db12fe-d275-416e-94d7-fc57e48d315f",
        "colab": {
          "base_uri": "https://localhost:8080/",
          "height": 158
        }
      },
      "cell_type": "code",
      "source": [
        "s = 'msu18'\n",
        "print(s.islower())\n",
        "\n",
        "print(s.upper())\n",
        "\n",
        "print(s.title())\n",
        "\n",
        "s = ' M S University '\n",
        "print(s.strip())\n",
        "\n",
        "a = 'M S University'\n",
        "print(a.split(\" \"))\n",
        "\n",
        "b = 'Day and Night, Day and Night'\n",
        "print(b.replace('Day', 'Light'))\n",
        "\n",
        "print(b.index('Night'))\n",
        "\n",
        "print(b.find('and1'))"
      ],
      "execution_count": 0,
      "outputs": [
        {
          "output_type": "stream",
          "text": [
            "True\n",
            "MSU18\n",
            "Msu18\n",
            "M S University\n",
            "['M', 'S', 'University']\n",
            "Light and Night, Light and Night\n",
            "8\n",
            "-1\n"
          ],
          "name": "stdout"
        }
      ]
    },
    {
      "metadata": {
        "id": "ghq-urWl2jpA",
        "colab_type": "text"
      },
      "cell_type": "markdown",
      "source": [
        "#### String formatting"
      ]
    },
    {
      "metadata": {
        "id": "SDLim31h2iy2",
        "colab_type": "code",
        "outputId": "f9b741f3-d1eb-49b0-f2b6-a4b26333d800",
        "colab": {
          "base_uri": "https://localhost:8080/",
          "height": 105
        }
      },
      "cell_type": "code",
      "source": [
        "name, place = \"Bob\", \"Home\"\n",
        "\n",
        "print('Hello, {}'.format(name))\n",
        "print('Hello, {}, welcome {}!'.format(name, place))\n",
        "print('Hey {name}, welcome {place}!'.format(name=name, place=place))\n",
        "print('Hello, {0}, {1}, {0}'.format(name, place))\n",
        "print('Hello, {details[0]}, welcome{details[1]}!'.format(details=[name,place]))"
      ],
      "execution_count": 0,
      "outputs": [
        {
          "output_type": "stream",
          "text": [
            "Hello, Bob\n",
            "Hello, Bob, welcome Home!\n",
            "Hey Bob, welcome Home!\n",
            "Hello, Bob, Home, Bob\n",
            "Hello, Bob, welcomeHome!\n"
          ],
          "name": "stdout"
        }
      ]
    }
  ]
}